{
 "cells": [
  {
   "cell_type": "markdown",
   "metadata": {},
   "source": [
    "# Problem Set 1 - K-Nearest Neighbor and NaiveBayes classifiers\n",
    "## CSCI 4622 - Spring 2022\n",
    "\n",
    "Student name < here >\n",
    "\n",
    "Only submit this notebook to canvas (no zip files).\n",
    "\n",
    "For today's assignment, we will be implementing our own K-Nearest Neighbors classifier (KNNClassifier) algorithm and a\n",
    " Naive Bayes classifier.\n",
    "\n",
    "*But Professor Quigley, hasn't someone else already written KNN before?*\n",
    "\n",
    "Yes, you are not the first to implement KNN, or basically any algorithm we'll work with in this class. But\n",
    "1. I'll know that you know what's really going on\n",
    "2. You'll know you can do it, because\n",
    "    1. someday you might have to implement some machine learning algorithm from scratch - maybe for a new platform (do you need to run python on your SmartToaster just to get it to\n",
    "learn how users like their toast?), maybe because you want to tweak the algorithm (there's always a better approach...),\n",
    "    2. maybe because you're working on something important, and you need to control exactly what's on there\n",
    "(should you really be running anaconda on your secret spy plane?).\n",
    "\n",
    "That said - we're not going to implement *everything*. We'll start by importing a few helper functions"
   ]
  },
  {
   "cell_type": "code",
   "execution_count": 1,
   "metadata": {},
   "outputs": [
    {
     "ename": "ModuleNotFoundError",
     "evalue": "No module named 'sklearn'",
     "output_type": "error",
     "traceback": [
      "\u001b[0;31m---------------------------------------------------------------------------\u001b[0m",
      "\u001b[0;31mModuleNotFoundError\u001b[0m                       Traceback (most recent call last)",
      "\u001b[0;32m/tmp/ipykernel_98413/1619604510.py\u001b[0m in \u001b[0;36m<module>\u001b[0;34m\u001b[0m\n\u001b[1;32m      1\u001b[0m \u001b[0;32mimport\u001b[0m \u001b[0mnumpy\u001b[0m \u001b[0;32mas\u001b[0m \u001b[0mnp\u001b[0m\u001b[0;34m\u001b[0m\u001b[0;34m\u001b[0m\u001b[0m\n\u001b[1;32m      2\u001b[0m \u001b[0;32mimport\u001b[0m \u001b[0mmatplotlib\u001b[0m\u001b[0;34m.\u001b[0m\u001b[0mpyplot\u001b[0m \u001b[0;32mas\u001b[0m \u001b[0mplt\u001b[0m\u001b[0;34m\u001b[0m\u001b[0;34m\u001b[0m\u001b[0m\n\u001b[0;32m----> 3\u001b[0;31m \u001b[0;32mimport\u001b[0m \u001b[0msklearn\u001b[0m\u001b[0;34m.\u001b[0m\u001b[0mneighbors\u001b[0m\u001b[0;34m\u001b[0m\u001b[0;34m\u001b[0m\u001b[0m\n\u001b[0m\u001b[1;32m      4\u001b[0m \u001b[0;32mimport\u001b[0m \u001b[0mdata\u001b[0m\u001b[0;34m\u001b[0m\u001b[0;34m\u001b[0m\u001b[0m\n\u001b[1;32m      5\u001b[0m \u001b[0;32mimport\u001b[0m \u001b[0mtests\u001b[0m\u001b[0;34m\u001b[0m\u001b[0;34m\u001b[0m\u001b[0m\n",
      "\u001b[0;31mModuleNotFoundError\u001b[0m: No module named 'sklearn'"
     ]
    }
   ],
   "source": [
    "import numpy as np\n",
    "import matplotlib.pyplot as plt\n",
    "import sklearn.neighbors\n",
    "import data\n",
    "import tests\n",
    "%matplotlib inline"
   ]
  },
  {
   "cell_type": "markdown",
   "metadata": {
    "deletable": false,
    "editable": false,
    "nbgrader": {
     "cell_type": "markdown",
     "checksum": "efe138e4ed9116ca84812b6c74bb1905",
     "grade": false,
     "grade_id": "intro",
     "locked": true,
     "schema_version": 3,
     "solution": false,
     "task": false
    }
   },
   "source": [
    "*Wait a minute - didn't we just import Scikit-learn (sklearn)? The package with baked-in machine learning tools?*\n",
    " Yes - but it also has a ton of helper functions that we'll be using later.\n",
    "\n",
    "You will be guided through the different questions and you'll be expected to complete the classes and the functions following the provided signatures.\n",
    " Sometimes at the end of a question we would provide a difficulty estimate using\n",
    "the average scored by students who attempted the question (or a similar one) in previous assignments.\n",
    "\n",
    "Remember to avoid adding positional arguments and make sure the returned values have the correct format (this applies to all assignments).\n",
    "The alternative is that your solution might be rejected by the auto-grader (we won't be debugging your code).\n",
    "We will provide some basic sanity checks. They're in no means exhaustive and passing them does not imply\n",
    "your solution is 100% correct.\n",
    "\n",
    "\n",
    "For example, you're required to complete the method `compute_something` of class A.\n",
    "We provide examples of acceptable solutions."
   ]
  },
  {
   "cell_type": "code",
   "execution_count": null,
   "metadata": {
    "jupyter": {
     "outputs_hidden": false
    },
    "pycharm": {
     "name": "#%%\n"
    }
   },
   "outputs": [],
   "source": [
    "# This cell can be removed from the submitted notebook\n",
    "class A:\n",
    "    def compute_something(self, X):\n",
    "        \"\"\"\n",
    "        :return: numpy array of zeros, with shape (4,)\n",
    "        \"\"\"\n",
    "        # BEGIN\n",
    "        answer = None\n",
    "        # END\n",
    "        return answer\n",
    "\n",
    "\n",
    "class A1:  # Acceptable solution:\n",
    "    # - the added y is an optional argument and omitting it does not affect the solution\n",
    "    # - the returned object has the expected structure.\n",
    "    def compute_something(self, X, y=None):\n",
    "        # BEGIN\n",
    "        return np.zeros((4,))\n",
    "        # END\n",
    "\n",
    "\n",
    "class A2:  # Wrong format:\n",
    "    # - your solution requires a new positional argument y!\n",
    "    # - the returned object does not have the expected format!\n",
    "    # - solution outside the delimiters # BEGIN # END\n",
    "    def compute_something(self, X, y):\n",
    "        return [0, 0, 0, 0]\n",
    "\n",
    "\n",
    "class A3:  # Acceptable solution:\n",
    "    # You're free to add your own helper functions/methods\n",
    "    def compute_something(self, X):\n",
    "        # BEGIN\n",
    "        return self.get_zeros(4)\n",
    "        # END\n",
    "\n",
    "    def get_zeros(self, i):\n",
    "        return np.zeros((i,))\n",
    "\n",
    "\n",
    "\n"
   ]
  },
  {
   "cell_type": "markdown",
   "metadata": {
    "deletable": false,
    "editable": false,
    "nbgrader": {
     "cell_type": "markdown",
     "checksum": "59de0d555108928827907dc7612accbd",
     "grade": false,
     "grade_id": "first",
     "locked": true,
     "schema_version": 3,
     "solution": false,
     "task": false
    },
    "pycharm": {
     "name": "#%% md\n"
    }
   },
   "source": [
    "First, let's also load a dataset to play with and start working to build out our own classifier."
   ]
  },
  {
   "cell_type": "code",
   "execution_count": null,
   "metadata": {
    "jupyter": {
     "outputs_hidden": false
    },
    "pycharm": {
     "name": "#%%\n"
    }
   },
   "outputs": [],
   "source": [
    "binary_data = data.BinaryData()\n",
    "fig, axs = plt.subplots(1, 3)\n",
    "fig.set_figheight(6), fig.set_figwidth(18)\n",
    "for i, name in enumerate([\"training\", \"validation\", \"test\"]):\n",
    "    axs[i].plot(*binary_data.boundary())\n",
    "    axs[i].set_title(\"%s samples\" % name)\n",
    "axs[0].scatter(binary_data.X_train[:, 0], binary_data.X_train[:, 1], c=binary_data.y_train)\n",
    "axs[1].scatter(binary_data.X_valid[:, 0], binary_data.X_valid[:, 1], c=binary_data.y_valid)\n",
    "axs[2].scatter(binary_data.X_test[:, 0], binary_data.X_test[:, 1], c=binary_data.y_test)\n",
    "plt.show()"
   ]
  },
  {
   "cell_type": "markdown",
   "metadata": {
    "deletable": false,
    "editable": false,
    "nbgrader": {
     "cell_type": "markdown",
     "checksum": "7ff17746a2ee0cf9c554d8ad98bb17f2",
     "grade": false,
     "grade_id": "knn_descrip",
     "locked": true,
     "schema_version": 3,
     "solution": false,
     "task": false
    }
   },
   "source": [
    "We have data! The `binary_data` instance has the following attributes:\n",
    "   - a training set (`X_train, y_train`): to train the model and on which the prediction is based\n",
    "   - a validation set (`X_valid, y_valid`): to select the best __hyper-parameters__ of the model\n",
    "   - a test set (`X_test, y_test`): to evaluate the performance of the model on unseen data\n",
    "\n",
    "### Problem 1: Complete our KNN Classifier - 40 Points\n",
    "\n",
    "The KNNClassifier class we're implementing will have similar design to the K-Nearest Neighbors classifier class from *scikit-learn*:\n",
    "- Initialize the classifier with corresponding parameters (number of neighbors k)\n",
    "- A `fit` method that uses the training data\n",
    "- A `predict` method that returns the predicted labels given data `X`\n",
    "\n",
    "We've written out a lot of the structure for you for consistency across different parts of the assignment and so\n",
    "you can focus on the \"important\" stuff that actually relates to the machine learning itself."
   ]
  },
  {
   "cell_type": "code",
   "execution_count": null,
   "metadata": {
    "deletable": false,
    "nbgrader": {
     "cell_type": "code",
     "checksum": "25e8c87357ee0b7d1fe2b38220360bd4",
     "grade": true,
     "grade_id": "knn_code",
     "locked": false,
     "points": 0,
     "schema_version": 3,
     "solution": true,
     "task": false
    }
   },
   "outputs": [],
   "source": [
    "class KNNClassifier:\n",
    "\n",
    "    def __init__(self, k=5):\n",
    "        \"\"\"\n",
    "        Initialize our custom KNN classifier\n",
    "        :param k: the number of nearest neighbors to consider for classification\n",
    "        \"\"\"\n",
    "        self._k = k\n",
    "        self._ball_tree = None\n",
    "        self._y = None\n",
    "        self.label_to_index = None\n",
    "        self.index_to_label = None\n",
    "\n",
    "    def fit(self, X, y):\n",
    "        \"\"\"\n",
    "        Fit the model using the provided data\n",
    "        :param X: 2-D np.array of shape (number training samples, number of features)\n",
    "        :param y: 1-D np.array of shape (number training samples,)\n",
    "        :return: self\n",
    "        \"\"\"\n",
    "        self._ball_tree = sklearn.neighbors.BallTree(X)  # See documentation of BallTree and how it's used\n",
    "        self._y = y\n",
    "        # Should be used to map the classes to {0,1,..C-1} if needed (C is the number of classes)\n",
    "        # We can assume that the training data contains samples from all the possible classes\n",
    "        classes = np.unique(y)\n",
    "        self.label_to_index = dict(zip(classes, range(classes.shape[0])))\n",
    "        self.index_to_label = dict(zip(range(classes.shape[0]), classes))\n",
    "\n",
    "        return self\n",
    "\n",
    "    def majority_vote(self, indices_nearest_k, distances_nearest_k=None):\n",
    "        \"\"\"\n",
    "        Given indices of the nearest k neighbors for each point, report the majority label of those points.\n",
    "        :param indices_nearest_k: np.array containing the indices of training neighbors, of shape (M, k)\n",
    "        :param distances_nearest_k: np.array containing the corresponding distances of training neighbors, of shape (M, k)\n",
    "        :return: The majority label for each row of indices, shape (M,)\n",
    "        \"\"\"\n",
    "\n",
    "        # Workspace 1.1\n",
    "        # TODO: Determine majority for each row of indices_nearest_k\n",
    "        # TODO: if there is a tie, remove the farthest neighbor until the tie is broken\n",
    "        #BEGIN \n",
    "        voted_labels = np.empty(indices_nearest_k.shape[0])\n",
    "        # code here\n",
    "        #END\n",
    "        return voted_labels\n",
    "\n",
    "    def predict(self, X):\n",
    "        \"\"\"\n",
    "        Given new data points, classify them according to the training data provided in fit and number of neighbors k\n",
    "        You should use BallTree to get the distances and indices of the nearest k neighbors\n",
    "        :param X: feature vectors (num_points, num_features)\n",
    "        :return: 1-D np.array of predicted classes of shape (num_points,)\n",
    "        \"\"\"\n",
    "        # Workspace 1.2\n",
    "        #BEGIN \n",
    "        # code here\n",
    "        distances_nearest_k, indices_nearest_k = None, None  # REPLACE\n",
    "        #END\n",
    "        return self.majority_vote(indices_nearest_k, distances_nearest_k)\n",
    "\n",
    "    def confusion_matrix(self, X, y):\n",
    "        \"\"\"\n",
    "        Generate the confusion matrix for the given data\n",
    "        :param X: an np.array of feature vectors of points, shape (N, n_features)\n",
    "        :param y: the corresponding correct classes of our set, shape (N,)\n",
    "        :return: a C*C np.array of counts, where C is the number of classes in our training data\n",
    "        \"\"\"\n",
    "        # The rows of the confusion matrix correspond to the counts from the true labels, the columns to the predictions'\n",
    "        # Workspace 1.3\n",
    "        # TODO: Run classification for the test set X, compare to test answers y, and add counts to matrix\n",
    "        c_matrix = np.zeros((len(self.label_to_index), len(self.label_to_index)))\n",
    "        #BEGIN \n",
    "        # code here\n",
    "        #END\n",
    "        return c_matrix\n",
    "\n",
    "    def accuracy(self, X, y):\n",
    "        \"\"\"\n",
    "        Return the accuracy of the classifier on the data (X_test, y_test)\n",
    "        :param X: np.array of shape (m, number_features)\n",
    "        :param y: np.array of shape (m,)\n",
    "        :return: accuracy score [float in (0,1)]\n",
    "        \"\"\"\n",
    "        # Workspace 1.4\n",
    "        # TODO: Compute accuracy on X\n",
    "        #BEGIN \n",
    "        # code here\n",
    "        score = 0 # REPLACE\n",
    "        #END\n",
    "        return score"
   ]
  },
  {
   "cell_type": "code",
   "execution_count": null,
   "metadata": {
    "jupyter": {
     "outputs_hidden": false
    },
    "pycharm": {
     "name": "#%%\n"
    }
   },
   "outputs": [],
   "source": [
    "# Test cell, uncomment to run the tests\n",
    "#tests.testKNN(KNNClassifier)"
   ]
  },
  {
   "cell_type": "markdown",
   "metadata": {
    "deletable": false,
    "editable": false,
    "nbgrader": {
     "cell_type": "markdown",
     "checksum": "f22b19ebde849794aa6cfabcb06d1e1a",
     "grade": false,
     "grade_id": "knn_quests",
     "locked": true,
     "schema_version": 3,
     "solution": false,
     "task": false
    }
   },
   "source": [
    "*But professor, this code isn't complete!*\n",
    "\n",
    "1.1 [10 points] Complete the `majority_vote` function to determine the majority class of a series of neighbors.\n",
    "If there is a tie, then you should remove the farthest element until the tie is broken. (Avg __9.6__)\n",
    "\n",
    "1.2 [5 points] Complete the `predict` function to capture the predicted class of a new datapoint (Avg __4.9__)\n",
    "\n",
    " - HINT: Use the BallTree documentation to determine how to retrieve neighbors from the model (https://scikit-learn.org/stable/modules/generated/sklearn.neighbors.BallTree.html#sklearn.neighbors.BallTree)\n",
    "\n",
    "1.3 [5 points] Complete the `confusion_matrix` function to reveal the results of classification (Avg __5__)\n",
    "\n",
    "1.4 [5 points] Complete the `accuracy` function to get accuracy of the classifier based on a given test data (Avg __5__)\n",
    "\n",
    "Below, we'll be using our KNNClassifier (sent in as \"model\") to show how we would predict any points in space given the input data."
   ]
  },
  {
   "cell_type": "code",
   "execution_count": null,
   "metadata": {
    "jupyter": {
     "outputs_hidden": false
    },
    "pycharm": {
     "name": "#%%\n"
    }
   },
   "outputs": [],
   "source": [
    "# This cell is to show the decision surface of the classifier\n",
    "# You can change k to visualize KNN behavior\n",
    "knn = KNNClassifier(2).fit(binary_data.X_train, binary_data.y_train)\n",
    "fig, axs = plt.subplots(1, 3)\n",
    "fig.set_figheight(6), fig.set_figwidth(18)\n",
    "tests.show_decision_surface(knn, binary_data.X_train, binary_data.y_train, axs[0])\n",
    "tests.show_decision_surface(knn, binary_data.X_valid, binary_data.y_valid, axs[1])\n",
    "tests.show_decision_surface(knn, binary_data.X_test, binary_data.y_test, axs[2])\n",
    "plt.show()"
   ]
  },
  {
   "cell_type": "markdown",
   "metadata": {
    "deletable": false,
    "editable": false,
    "nbgrader": {
     "cell_type": "markdown",
     "checksum": "91212cc17330e1e32256aa337b890e41",
     "grade": false,
     "grade_id": "q15",
     "locked": true,
     "schema_version": 3,
     "solution": false,
     "task": false
    },
    "pycharm": {
     "name": "#%% md\n"
    }
   },
   "source": [
    "1.5 [10 points] For each k in the range [1,32], fit a KNNClassifier on the training set and plot the accuracies on training and validation\n",
    "data versus k. What's the value of k that yields the best accuracy on the training set? on the validation set? Which one\n",
    " should we choose? (Avg __9.8__)"
   ]
  },
  {
   "cell_type": "code",
   "execution_count": null,
   "metadata": {
    "deletable": false,
    "nbgrader": {
     "cell_type": "code",
     "checksum": "1f9fa1a05b6899899e5f6adf55bde49a",
     "grade": true,
     "grade_id": "a15a",
     "locked": false,
     "points": 0,
     "schema_version": 3,
     "solution": true,
     "task": false
    },
    "pycharm": {
     "name": "#%%\n"
    }
   },
   "outputs": [],
   "source": [
    "# Workspace 1.5.a\n",
    "#TODO: Try different Ks\n",
    "ks = list(range(1, 32))\n",
    "accuracies_train = []\n",
    "accuracies_valid = []\n",
    "for k in ks:\n",
    "    #BEGIN \n",
    "    # code here\n",
    "    #END\n",
    "plt.plot(ks, accuracies_valid, label=\"valid\")\n",
    "plt.plot(ks, accuracies_train, label=\"train\")\n",
    "plt.legend()\n",
    "plt.show()"
   ]
  },
  {
   "cell_type": "markdown",
   "metadata": {
    "deletable": false,
    "nbgrader": {
     "cell_type": "markdown",
     "checksum": "62f01922c3f9808f61f29d460dc12357",
     "grade": true,
     "grade_id": "a15b",
     "locked": false,
     "points": 0,
     "schema_version": 3,
     "solution": true,
     "task": false
    },
    "pycharm": {
     "name": "#%% md\n"
    }
   },
   "source": [
    "### # Workspace 1.5.b\n",
    "% Write up: best k for training and validation and which one should we choose\n",
    "\n",
    "% YOUR ANSWER HERE"
   ]
  },
  {
   "cell_type": "markdown",
   "metadata": {
    "deletable": false,
    "editable": false,
    "nbgrader": {
     "cell_type": "markdown",
     "checksum": "c8f50b305071e3439a7bc3c0e1067281",
     "grade": false,
     "grade_id": "q16",
     "locked": true,
     "schema_version": 3,
     "solution": false,
     "task": false
    },
    "pycharm": {
     "name": "#%% md\n"
    }
   },
   "source": [
    "1.6 [5 points] Report the accuracy and the confusion matrix on the test set using the value of k chosen in 1.5 (Avg __5__)"
   ]
  },
  {
   "cell_type": "code",
   "execution_count": null,
   "metadata": {
    "deletable": false,
    "jupyter": {
     "outputs_hidden": false
    },
    "nbgrader": {
     "cell_type": "code",
     "checksum": "a99dd0305cb083df0670e965d128e152",
     "grade": true,
     "grade_id": "a16",
     "locked": false,
     "points": 0,
     "schema_version": 3,
     "solution": true,
     "task": false
    },
    "pycharm": {
     "name": "#%%\n"
    }
   },
   "outputs": [],
   "source": [
    "# Workspace 1.6\n",
    "# TODO: compute and print the accuracy on the test set using k from 1.5\n",
    "#BEGIN \n",
    "# code here\n",
    "best_k = None # REPLACE\n",
    "#END"
   ]
  },
  {
   "cell_type": "markdown",
   "metadata": {
    "deletable": false,
    "editable": false,
    "nbgrader": {
     "cell_type": "markdown",
     "checksum": "efbb550c15d3b3b347af412a6a4d99de",
     "grade": false,
     "grade_id": "q17",
     "locked": true,
     "schema_version": 3,
     "solution": false,
     "task": false
    }
   },
   "source": [
    "**Bonus (for the avid machine learner) (4 Points)**\n",
    "\n",
    "1.7.a [2 point] A [__consistent classifier__](https://proceedings.neurips.cc/paper/1996/file/7bb060764a818184ebb1cc0d43d382aa-Paper.pdf)\n",
    "on the training data is defined as a classifier that reaches 100% accuracy on the training set. For which values of k is KNNClassifier Consistent? (Avg __1__)\n",
    "\n",
    "1.7.b [2 points] Edit your `KNNClassifier` so that it's consistent for all $k$ (we made sure that the change does not affect the sanity checks) (Avg __1__)"
   ]
  },
  {
   "cell_type": "markdown",
   "metadata": {
    "deletable": false,
    "nbgrader": {
     "cell_type": "markdown",
     "checksum": "66f5f2bd5db765b0503f97d99628415d",
     "grade": true,
     "grade_id": "a17a",
     "locked": false,
     "points": 0,
     "schema_version": 3,
     "solution": true,
     "task": false
    }
   },
   "source": [
    "#### Write-up for the bonus\n",
    "**Workspace 1.7.a**\n",
    "\n",
    "% for which k in KNNClassifier consistent\n",
    "\n",
    "% YOUR ANSWER HERE"
   ]
  },
  {
   "cell_type": "markdown",
   "metadata": {
    "deletable": false,
    "editable": false,
    "nbgrader": {
     "cell_type": "markdown",
     "checksum": "089dbb93b8d947e7e89208951f3c68de",
     "grade": false,
     "grade_id": "digits_intro",
     "locked": true,
     "schema_version": 3,
     "solution": false,
     "task": false
    }
   },
   "source": [
    "***\n",
    "OK - now we've demonstrated that our KNN classifier works, let's think about our problem space! \n",
    "\n",
    "## Our Dataset - Identifying Digits from Images\n",
    "\n",
    "It's a pretty common problem - just imagine working at the post office, and you're handed a hand-written check,\n",
    "and you have to identify exactly what it says.\n",
    "Did they pay 500 or 600 dollars? Is the letter going to 80309 (campus) or 30309 (Atlanta)?\n",
    "\n",
    "\n",
    "### Problem 2: Improving KNN on Digits dataset - 25 Points\n",
    "\n",
    "2.1 [7 points] `report` the number of examples different partitions of the digit dataset adn the number of pixels in the images (Avg __6.8__)\n",
    "\n",
    "2.2 [8 points] complete the `evaluate` to perform the same evaluation we did in 1.5:\n",
    " - For k in range (1, 20):\n",
    "    - initialize the classifier for k  and train in on the training set\n",
    "    - Compute the accuracy on the validation set and save it\n",
    " - Choose k with the best accuracy on the validation set\n",
    " - Report the accuracy and the confusion matrix on the test set (use `display_confusion` for a cleaner output)\n",
    "\n"
   ]
  },
  {
   "cell_type": "code",
   "execution_count": null,
   "metadata": {
    "deletable": false,
    "nbgrader": {
     "cell_type": "code",
     "checksum": "14493c180a269514f67081b9d61cb288",
     "grade": true,
     "grade_id": "digits_code",
     "locked": false,
     "points": 0,
     "schema_version": 3,
     "solution": true,
     "task": false
    }
   },
   "outputs": [],
   "source": [
    "class Numbers:\n",
    "    def __init__(self):\n",
    "        self.data = data.DigitData() # it has the same structure as binary_data\n",
    "\n",
    "    def report(self):\n",
    "        \"\"\"\n",
    "        Report information about the dataset using the print() function\n",
    "        \"\"\"\n",
    "        # Workspace 2.1\n",
    "        #TODO: Create print-outs for reporting the size of each set and the size of each datapoint\n",
    "        #BEGIN \n",
    "        # code here\n",
    "        #END\n",
    "\n",
    "    def evaluate(self, classifier_class):\n",
    "        \"\"\"\n",
    "        valuates instances of the classifier class for different values of k and performs model selection\n",
    "        :param classifier_class: Classifier class (either KNNClassifier or WeightedKNNClassifier)\n",
    "        \"\"\"\n",
    "\n",
    "        # Workspace 2.2\n",
    "\n",
    "        ks = list(range(1, 20))\n",
    "        accuracies_valid = []\n",
    "        #BEGIN \n",
    "        # code here (anything between BEGIN and END is yours to edit if needed)\n",
    "        best_valid_k = None\n",
    "        confusion_matrix = None\n",
    "        accuracy = 0\n",
    "        ks = list(range(1, 20))\n",
    "        accuracies_valid = []\n",
    "        for k in ks:\n",
    "            print(k, end=\"\\r\")\n",
    "        #END\n",
    "        print(\"best k:\", best_valid_k)\n",
    "        print(\"Accuracy on test set:\", accuracy)\n",
    "        self.display_confusion(confusion_matrix)\n",
    "\n",
    "    def view_digit(self, index, partition):\n",
    "        \"\"\"\n",
    "        Display a digit given its index and partition\n",
    "        :param index: index of the digit image\n",
    "        :param partition: partition from which the digit is retrieved, either \"train\", \"valid\" or \"test\"\n",
    "        \"\"\"\n",
    "        image = {\"train\": self.data.X_train, \"valid\": self.data.X_valid, \"test\": self.data.X_test}[partition][index]\n",
    "        label = {\"train\": self.data.y_train, \"valid\": self.data.y_valid, \"test\": self.data.y_test}[partition][index]\n",
    "        image = image.reshape(28, 28)\n",
    "        plt.figure()\n",
    "        plt.matshow(image)\n",
    "        plt.title(\"Digit %i\" % label)\n",
    "        plt.show()\n",
    "\n",
    "    @staticmethod\n",
    "    def display_confusion(c_matrix):\n",
    "        \"\"\"\n",
    "        Displays the confusion matrix using matshow\n",
    "        :param c_matrix: square confusion matrix, shape (num_classes, num_classes)\n",
    "        \"\"\"\n",
    "        _, ax = plt.subplots()\n",
    "        ax.matshow(c_matrix, cmap=plt.cm.Blues)\n",
    "        for i in range(c_matrix.shape[0]):\n",
    "            for j in range(c_matrix.shape[0]):\n",
    "                ax.text(i, j, str(c_matrix[j, i]), va='center', ha='center')\n",
    "        plt.show()\n",
    "\n"
   ]
  },
  {
   "cell_type": "code",
   "execution_count": null,
   "metadata": {},
   "outputs": [],
   "source": [
    "numbers = Numbers()\n",
    "numbers.report()\n",
    "numbers.evaluate(KNNClassifier)"
   ]
  },
  {
   "cell_type": "markdown",
   "metadata": {
    "deletable": false,
    "editable": false,
    "nbgrader": {
     "cell_type": "markdown",
     "checksum": "53e72657e950210ebc016bf9f75e9fdb",
     "grade": false,
     "grade_id": "q23",
     "locked": true,
     "schema_version": 3,
     "solution": false,
     "task": false
    }
   },
   "source": [
    "\n",
    "\n",
    "2.3 [10 points] Determine which classes are most often confused (from our confusion matrix above),\n",
    " inspect some examples of these digits (using the `view_digit` function in our Numbers class),\n",
    " and write a brief (4 - 5 sentences) description of why you think these particular numbers may be misclassified. (Avg __9.1__)"
   ]
  },
  {
   "cell_type": "code",
   "execution_count": null,
   "metadata": {
    "deletable": false,
    "nbgrader": {
     "cell_type": "code",
     "checksum": "e2d664f872f1ac11b24179adec1d4988",
     "grade": true,
     "grade_id": "a23a",
     "locked": false,
     "points": 0,
     "schema_version": 3,
     "solution": true,
     "task": false
    }
   },
   "outputs": [],
   "source": [
    "# Workspace 2.3.a\n",
    "#TODO: Print out problem class images\n",
    "#BEGIN \n",
    "# code here\n",
    "#END"
   ]
  },
  {
   "cell_type": "markdown",
   "metadata": {
    "deletable": false,
    "nbgrader": {
     "cell_type": "markdown",
     "checksum": "a3b5cbfc682156e6bc12f41693c6ad24",
     "grade": true,
     "grade_id": "a23b",
     "locked": false,
     "points": 0,
     "schema_version": 3,
     "solution": true,
     "task": false
    }
   },
   "source": [
    "**Workspace 2.3.b**\n",
    "\n",
    "TODO: Write description of mis-classification\n",
    "\n",
    "% YOUR ANSWER HERE"
   ]
  },
  {
   "cell_type": "markdown",
   "metadata": {
    "deletable": false,
    "editable": false,
    "nbgrader": {
     "cell_type": "markdown",
     "checksum": "817d969eaad2c86094b3e78cc994620e",
     "grade": false,
     "grade_id": "digits_data",
     "locked": true,
     "schema_version": 3,
     "solution": false,
     "task": false
    }
   },
   "source": [
    "### Problem 3 - Naive Bayes [35 points]\n",
    "***\n",
    "Consider the problem of predicting whether a person has a college degree based on age, salary, and Colorado residency.\n",
    "The dataset looks like the following.\n",
    "\n",
    "|Age|Salary|Colorado Resident| Has Siblings | College degree|\n",
    "|:------:|:-----------:| :----------:| :----------:|--:|\n",
    "| 37 | 44,000 | Yes | No  | Yes|\n",
    "| 61 | 52,000 | Yes | No  | No |\n",
    "| 23 | 44,000 | No  | No  | Yes|\n",
    "| 39 | 38,000 | No  | Yes | Yes|\n",
    "| 48 | 49,000 | No  | No  | Yes|\n",
    "| 57 | 92,000 | No  | Yes | No |\n",
    "| 38 | 41,000 | No  | Yes | Yes|\n",
    "| 27 | 35,000 | Yes | No  | No |\n",
    "| 23 | 26,000 | Yes | No  | No |\n",
    "| 38 | 45,000 | No  | No  | No |\n",
    "| 32 | 50,000 | No  | No  | No |\n",
    "| 25 | 52,000 | Yes | No  | No |\n"
   ]
  },
  {
   "cell_type": "code",
   "execution_count": null,
   "metadata": {
    "jupyter": {
     "outputs_hidden": false
    },
    "pycharm": {
     "name": "#%%\n"
    }
   },
   "outputs": [],
   "source": [
    "features = np.array([\n",
    "    [37, 44000, 1, 0],\n",
    "    [61, 52000, 1, 0],\n",
    "    [23, 44000, 0, 0],\n",
    "    [39, 38000, 0, 1],\n",
    "    [48, 49000, 0, 0],\n",
    "    [57, 92000, 0, 1],\n",
    "    [38, 41000, 0, 1],\n",
    "    [27, 35000, 1, 0],\n",
    "    [23, 26000, 1, 0],\n",
    "    [38, 45000, 0, 0],\n",
    "    [32, 50000, 0, 0],\n",
    "    [25, 52000, 1, 0]\n",
    "])\n",
    "labels = np.array([1, 0, 1, 1, 1, 0, 1, 0, 0, 0, 1, 1])"
   ]
  },
  {
   "cell_type": "markdown",
   "metadata": {
    "deletable": false,
    "editable": false,
    "nbgrader": {
     "cell_type": "markdown",
     "checksum": "e15faec840fa3ae675b511b733a0be60",
     "grade": false,
     "grade_id": "q31",
     "locked": true,
     "schema_version": 3,
     "solution": false,
     "task": false
    },
    "pycharm": {
     "name": "#%% md\n"
    }
   },
   "source": [
    "3.1 [5 points] Complete `threshold_features` to convert age and salary features to binary ones using the threshold arguments. (Avg __4.9__)"
   ]
  },
  {
   "cell_type": "code",
   "execution_count": null,
   "metadata": {
    "deletable": false,
    "jupyter": {
     "outputs_hidden": false
    },
    "nbgrader": {
     "cell_type": "code",
     "checksum": "42801090d30179725dc0c32f6679fde0",
     "grade": true,
     "grade_id": "a31",
     "locked": false,
     "points": 0,
     "schema_version": 3,
     "solution": true,
     "task": false
    },
    "pycharm": {
     "name": "#%%\n"
    }
   },
   "outputs": [],
   "source": [
    "def threshold_features(features, age_threshold, salary_threshold):\n",
    "    \"\"\"\n",
    "    Transform age and salary to binary\n",
    "    :param features: data array of shape (m, n_features) where features[:,0] for age, features[:,1} for salary\n",
    "    :param age_threshold: used to \"binarize\" the data, 1 if age > age_threshold and 0 otherwise\n",
    "    :param salary_threshold: used to \"binarize\" the data, 1 if salary > salary_threshold and 0 otherwise\n",
    "    :return: binary features matrix\n",
    "    \"\"\"\n",
    "    binary_features = features * 1  #This row just creates a \"hard copy\" of the X array so we can manipulate it as needed\n",
    "\n",
    "    # Workspace 3.1\n",
    "    #BEGIN \n",
    "    # code here\n",
    "    #END\n",
    "\n",
    "    return binary_features"
   ]
  },
  {
   "cell_type": "code",
   "execution_count": null,
   "metadata": {
    "jupyter": {
     "outputs_hidden": false
    },
    "pycharm": {
     "name": "#%%\n"
    }
   },
   "outputs": [],
   "source": [
    "# Test cell, uncomment to run the tests\n",
    "# tests.test_threshold(threshold_features)"
   ]
  },
  {
   "cell_type": "markdown",
   "metadata": {
    "deletable": false,
    "editable": false,
    "nbgrader": {
     "cell_type": "markdown",
     "checksum": "534642e72e2d406eebef132e92e3c463",
     "grade": false,
     "grade_id": "q32",
     "locked": true,
     "schema_version": 3,
     "solution": false,
     "task": false
    }
   },
   "source": [
    "3.2 [3 points] If we were to use only one binary feature (age >40, salary > 40000, colorado resident, has siblings),\n",
    "then what's the highest accuracy we could achieve? Which feature should we use?"
   ]
  },
  {
   "cell_type": "markdown",
   "metadata": {
    "deletable": false,
    "nbgrader": {
     "cell_type": "markdown",
     "checksum": "a903a8aee68b6b904be2c052008984fc",
     "grade": true,
     "grade_id": "a32",
     "locked": false,
     "points": 0,
     "schema_version": 3,
     "solution": true,
     "task": false
    }
   },
   "source": [
    "**Workspace 3.2**\n",
    "\n",
    "% YOUR ANSWER HERE"
   ]
  },
  {
   "cell_type": "markdown",
   "metadata": {
    "deletable": false,
    "editable": false,
    "nbgrader": {
     "cell_type": "markdown",
     "checksum": "1bac53a4676dac1577e65e47dcf5c1b3",
     "grade": false,
     "grade_id": "bayes_intro",
     "locked": true,
     "schema_version": 3,
     "solution": false,
     "task": false
    }
   },
   "source": [
    "## How to implement NaiveBayes\n",
    "As seen during the class, given a row $(x_1, x_2, x_3)$, the naive Bayes classifier should assign the label $y$ that\n",
    "maximizes:\n",
    "\n",
    "\\begin{align}\n",
    "\\log [p(y) \\prod_i p(x_i | y)] = \\log p(y) + \\sum_{i} \\log p(x_i | y)\n",
    "\\end{align}\n",
    "\n",
    "$p(y)$ and $p(x_i | y)$ are computed using the training set (during `fit` call).\n",
    "\n",
    "For this, we need two attributes to store\n",
    "$\\log p(y)$ and $\\log p(x_i | y)$ for different features $i$.\n",
    "\n",
    "Let's assume we're working with binary classes $\\{0, 1\\}$ and all features have discrete supports.\n",
    "Then we will store `classes_log_probability` as an array of shape `(2,)` that contains:\n",
    "\\begin{bmatrix}\n",
    "\\log p(y=0),\\log p(y=1)\n",
    "\\end{bmatrix}.\n",
    "\n",
    "If feature $i$ has $2$ possible values $\\{0, 1\\}$, then $\\log p(x_i | y)$ would be stored as a $ 2 \\times 2$ matrix:\n",
    "\\begin{align}\n",
    "A_i = \\begin{bmatrix}\n",
    "\\log p(x_i=0 | y=0) & \\log p(x_i=1| y=0)\\\\\n",
    "\\log p(x_i=0 | y=1) & \\log p(x_i=1 | y=1)\n",
    "\\end{bmatrix}\n",
    "\\end{align}\n",
    "\n",
    "`features_log_likelihood` should then store such matrix for each feature.\n",
    "\n",
    "We have defined $p(x_i | y)$ as :\n",
    "\\begin{align}\n",
    "p(x_i | y) = \\frac{N_{y,x_i}}{N_y}\n",
    "\\end{align}\n",
    "where $N_{y,i}$ is the number of rows where $y$ and $x_i$ occur together, and $N_y = \\sum_i N_{y,x_i}$.\n",
    "\n",
    "3.3 [5 points] Complete the method `compute_classes` and store the log prior in `classes_log_probability` (Avg __5__)\n",
    "\n",
    "3.4 [7 points] Complete the method `compute_features` by storing the matrices $A_i$ in `self.features_log_likelihood` (Avg __6.3__)\n",
    "\n",
    "3.5 [5 points] Complete the method `join_log_likelihood` that computes the likelihood quantities\n",
    " $[\\sum_{i} \\log p(x_i | y=0), \\sum_{i} \\log p(x_i | y=1)]$ for each observation\n",
    "\n",
    "3.6 [5 points] Complete the `predict` method"
   ]
  },
  {
   "cell_type": "code",
   "execution_count": null,
   "metadata": {
    "deletable": false,
    "jupyter": {
     "outputs_hidden": false
    },
    "nbgrader": {
     "cell_type": "code",
     "checksum": "5bf8ee212651f4bd68e72b3ecc98dc74",
     "grade": true,
     "grade_id": "bayes_code",
     "locked": false,
     "points": 0,
     "schema_version": 3,
     "solution": true,
     "task": false
    },
    "pycharm": {
     "name": "#%%\n"
    }
   },
   "outputs": [],
   "source": [
    "class NaiveBayes(object):\n",
    "    \"\"\"\n",
    "    NaiveBayes classifier for binary features and binary labels\n",
    "    \"\"\"\n",
    "\n",
    "    def __init__(self, alpha=0.0):\n",
    "        self.alpha = alpha\n",
    "        self.classes_counts = None\n",
    "        self.classes_log_probability = np.empty((2,))\n",
    "        self.features_log_likelihood = []  # list of arrays where element i store log p(X[:,i], y)\n",
    "\n",
    "    def compute_classes(self, y):\n",
    "        \"\"\"\n",
    "        Computes the log prior of binary classes and stores the result in self.classes_log_probability\n",
    "        :param y: binary labels array, shape (m,)\n",
    "        \"\"\"\n",
    "        # Workspace 3.3\n",
    "        #BEGIN \n",
    "        # code here\n",
    "        #END\n",
    "\n",
    "    def compute_features(self, X, y):\n",
    "        \"\"\"\n",
    "        Computes the log likelihood matrices for different features and stores them in self.features_log_likelihood\n",
    "        :param X: data matrix with binary features, shape (n_samples, n_features)\n",
    "        :param y: binary labels array, shape (n_samples,)\n",
    "        \"\"\"\n",
    "        # Workspace 3.4\n",
    "        #BEGIN \n",
    "        # code here\n",
    "        #END\n",
    "\n",
    "    def fit(self, X, y):\n",
    "        \"\"\"\n",
    "        :param X: binary np.array of shape (n_samples, n_features) [values 0 or 1]\n",
    "        :param y: corresponding binary labels of shape (n_samples,) [values 0 or 1]\n",
    "        :return: Classifier\n",
    "        \"\"\"\n",
    "        self.compute_classes(y)\n",
    "        self.compute_features(X, y)\n",
    "        return self\n",
    "\n",
    "    def joint_log_likelihood(self, X):\n",
    "        \"\"\"\n",
    "        Computes the joint log likelihood\n",
    "        :param X: binary np.array of shape (n_samples, n_features) [values 0 or 1]\n",
    "        :return: joint log likelihood array jll of shape (n_samples, 2), where jll[i] = [log p(X[i]|y=0),log p(X[i]|y=1)]\n",
    "        \"\"\"\n",
    "        # Workspace 3.5\n",
    "        #BEGIN \n",
    "        joint_log_likelihood = np.zeros((X.shape[0], 2))\n",
    "        # code here\n",
    "        #END\n",
    "        return joint_log_likelihood\n",
    "\n",
    "    def predict(self, X):\n",
    "        \"\"\"\n",
    "        :param X:\n",
    "        :return:\n",
    "        \"\"\"\n",
    "\n",
    "        # Workspace 3.6\n",
    "        # TODO: Find the corresponding labels using Naive bayes logic\n",
    "        #BEGIN \n",
    "        # code here\n",
    "        y_hat = np.zeros((X.shape[0],))\n",
    "        #END\n",
    "        return y_hat"
   ]
  },
  {
   "cell_type": "code",
   "execution_count": null,
   "metadata": {
    "jupyter": {
     "outputs_hidden": false
    },
    "pycharm": {
     "name": "#%%\n"
    }
   },
   "outputs": [],
   "source": [
    "# Test cell, uncomment to run the tests\n",
    "# tests.test_NB(NaiveBayes)"
   ]
  },
  {
   "cell_type": "markdown",
   "metadata": {
    "deletable": false,
    "editable": false,
    "nbgrader": {
     "cell_type": "markdown",
     "checksum": "e69e1abc6df07e4daaad64eb44f525ae",
     "grade": false,
     "grade_id": "q37",
     "locked": true,
     "schema_version": 3,
     "solution": false,
     "task": false
    }
   },
   "source": [
    "3.7 [5 points] Using age 40 and salary 40,000 as thresholds, transform the features and evaluate (accuracy) the NaiveBayes classifier\n",
    "on the training data. Does it outperform our baseline (of using one feature)? (Avg __4.5__)"
   ]
  },
  {
   "cell_type": "code",
   "execution_count": null,
   "metadata": {
    "deletable": false,
    "jupyter": {
     "outputs_hidden": false
    },
    "nbgrader": {
     "cell_type": "code",
     "checksum": "05c7c3c73540467bd7bd289b0bec0617",
     "grade": true,
     "grade_id": "a37",
     "locked": false,
     "points": 0,
     "schema_version": 3,
     "solution": true,
     "task": false
    },
    "pycharm": {
     "name": "#%%\n"
    }
   },
   "outputs": [],
   "source": [
    "naive_bayes = NaiveBayes()\n",
    "# Workspace 3.7\n",
    "#TODO: Transform features to binary features, fit the classifier, report the accuracy\n",
    "#BEGIN \n",
    "# code here\n",
    "#END"
   ]
  },
  {
   "cell_type": "markdown",
   "metadata": {
    "deletable": false,
    "editable": false,
    "nbgrader": {
     "cell_type": "markdown",
     "checksum": "4257576253268a35f90da8ff67d94565",
     "grade": false,
     "grade_id": "q38",
     "locked": true,
     "schema_version": 3,
     "solution": false,
     "task": false
    },
    "pycharm": {
     "name": "#%% md\n"
    }
   },
   "source": [
    "**Bonus**\n",
    "\n",
    "3.8 [2 points] Use the attribute `alpha` of the NaiveBayes to convert it to smoothed NaiveBayes presented during the class.\n",
    "`alpha`defaults to 0, so editing the class should not affect NaiveBayes tests (Avg __1.8__)"
   ]
  }
 ],
 "metadata": {
  "kernelspec": {
   "display_name": "Python 3 (ipykernel)",
   "language": "python",
   "name": "python3"
  },
  "language_info": {
   "codemirror_mode": {
    "name": "ipython",
    "version": 3
   },
   "file_extension": ".py",
   "mimetype": "text/x-python",
   "name": "python",
   "nbconvert_exporter": "python",
   "pygments_lexer": "ipython3",
   "version": "3.10.1"
  }
 },
 "nbformat": 4,
 "nbformat_minor": 4
}
